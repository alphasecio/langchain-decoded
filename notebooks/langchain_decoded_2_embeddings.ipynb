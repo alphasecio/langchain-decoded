{
  "nbformat": 4,
  "nbformat_minor": 0,
  "metadata": {
    "colab": {
      "provenance": []
    },
    "kernelspec": {
      "name": "python3",
      "display_name": "Python 3"
    },
    "language_info": {
      "name": "python"
    }
  },
  "cells": [
    {
      "cell_type": "markdown",
      "source": [
        "# **LangChain Decoded**"
      ],
      "metadata": {
        "id": "JQxt18IfZR40"
      }
    },
    {
      "cell_type": "markdown",
      "source": [
        "## Getting Started"
      ],
      "metadata": {
        "id": "zgFXxUsp5pbu"
      }
    },
    {
      "cell_type": "code",
      "source": [
        "# Install the LangChain package\n",
        "!pip install langchain"
      ],
      "metadata": {
        "id": "fRUe2wO95xoR"
      },
      "execution_count": null,
      "outputs": []
    },
    {
      "cell_type": "code",
      "source": [
        "# Install the OpenAI package\n",
        "!pip install openai"
      ],
      "metadata": {
        "id": "T7TwICBe9yy4"
      },
      "execution_count": null,
      "outputs": []
    },
    {
      "cell_type": "code",
      "source": [
        "# Configure the API key\n",
        "import os\n",
        "\n",
        "openai_api_key = os.environ.get('OPENAI_API_KEY', 'sk-XXX')"
      ],
      "metadata": {
        "id": "I-ZUDlva6m3Y"
      },
      "execution_count": null,
      "outputs": []
    },
    {
      "cell_type": "markdown",
      "source": [
        "## Part 2: Embeddings"
      ],
      "metadata": {
        "id": "oH043Uvlr95a"
      }
    },
    {
      "cell_type": "code",
      "source": [
        "# Use OpenAI text embeddings for a text input\n",
        "from langchain.embeddings.openai import OpenAIEmbeddings\n",
        "\n",
        "embeddings = OpenAIEmbeddings(openai_api_key=openai_api_key)\n",
        "\n",
        "text = \"This is a sample query.\"\n",
        "\n",
        "query_result = embeddings.embed_query(text)\n",
        "print(query_result)\n",
        "print(len(query_result))"
      ],
      "metadata": {
        "id": "ozw7kkLosUqy"
      },
      "execution_count": null,
      "outputs": []
    },
    {
      "cell_type": "code",
      "source": [
        "# Use OpenAI text embeddings for multiple text/document inputs\n",
        "from langchain.embeddings.openai import OpenAIEmbeddings\n",
        "\n",
        "embeddings = OpenAIEmbeddings(openai_api_key=openai_api_key)\n",
        "\n",
        "text = [\"This is a sample query.\", \"This is another sample query.\", \"This is yet another sample query.\"]\n",
        "\n",
        "doc_result = embeddings.embed_documents(text)\n",
        "print(doc_result)\n",
        "print(len(doc_result))"
      ],
      "metadata": {
        "id": "NRH8asFsMtZB"
      },
      "execution_count": null,
      "outputs": []
    },
    {
      "cell_type": "code",
      "source": [
        "# Use fake embeddings to test your pipeline\n",
        "from langchain.embeddings import FakeEmbeddings\n",
        "\n",
        "embeddings = FakeEmbeddings(size=1481)\n",
        "\n",
        "text = \"This is a sample query.\"\n",
        "\n",
        "query_result = embeddings.embed_query(text)\n",
        "print(query_result)\n",
        "print(len(query_result))"
      ],
      "metadata": {
        "id": "-1VMjbchOZZG"
      },
      "execution_count": null,
      "outputs": []
    },
    {
      "cell_type": "code",
      "source": [
        "# Request with context length > 8191 throws an error\n",
        "from langchain.embeddings.openai import OpenAIEmbeddings\n",
        "\n",
        "embeddings = OpenAIEmbeddings(openai_api_key=openai_api_key)\n",
        "\n",
        "long_text = 'Hello ' * 10000\n",
        "\n",
        "query_result = embeddings.embed_query(long_text)\n",
        "print(query_result)"
      ],
      "metadata": {
        "id": "9SYhZJyQTiZZ"
      },
      "execution_count": null,
      "outputs": []
    },
    {
      "cell_type": "code",
      "source": [
        "!pip install tiktoken"
      ],
      "metadata": {
        "id": "t0blTkHpVOjl"
      },
      "execution_count": null,
      "outputs": []
    },
    {
      "cell_type": "code",
      "source": [
        "# Truncate input text length using tiktoken\n",
        "import tiktoken\n",
        "from langchain.embeddings.openai import OpenAIEmbeddings\n",
        "\n",
        "embeddings = OpenAIEmbeddings(openai_api_key=openai_api_key)\n",
        "\n",
        "max_tokens = 8191\n",
        "encoding_name = 'cl100k_base'\n",
        "\n",
        "long_text = 'Hello ' * 10000\n",
        "\n",
        "# Tokenize the input text before truncating it\n",
        "encoding = tiktoken.get_encoding(encoding_name)\n",
        "tokens = encoding.encode(long_text)[:max_tokens]\n",
        "\n",
        "# Re-convert the tokens to a string before embedding\n",
        "truncated_text = encoding.decode(tokens)\n",
        "\n",
        "query_result = embeddings.embed_query(truncated_text)\n",
        "print(query_result)\n",
        "print(len(query_result))"
      ],
      "metadata": {
        "id": "reeAzDpqXXoC"
      },
      "execution_count": null,
      "outputs": []
    }
  ]
}