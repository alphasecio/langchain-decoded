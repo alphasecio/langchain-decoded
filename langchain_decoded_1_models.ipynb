{
  "nbformat": 4,
  "nbformat_minor": 0,
  "metadata": {
    "colab": {
      "provenance": []
    },
    "kernelspec": {
      "name": "python3",
      "display_name": "Python 3"
    },
    "language_info": {
      "name": "python"
    }
  },
  "cells": [
    {
      "cell_type": "markdown",
      "source": [
        "# **LangChain Decoded**"
      ],
      "metadata": {
        "id": "JQxt18IfZR40"
      }
    },
    {
      "cell_type": "markdown",
      "source": [
        "## Getting Started"
      ],
      "metadata": {
        "id": "zgFXxUsp5pbu"
      }
    },
    {
      "cell_type": "code",
      "source": [
        "# Install the LangChain package\n",
        "!pip install langchain"
      ],
      "metadata": {
        "id": "fRUe2wO95xoR"
      },
      "execution_count": null,
      "outputs": []
    },
    {
      "cell_type": "code",
      "source": [
        "# Install the OpenAI package\n",
        "!pip install openai"
      ],
      "metadata": {
        "id": "T7TwICBe9yy4"
      },
      "execution_count": null,
      "outputs": []
    },
    {
      "cell_type": "code",
      "source": [
        "# Configure the API key\n",
        "import os\n",
        "\n",
        "openai_api_key = os.environ.get('OPENAI_API_KEY', 'sk-XXX')"
      ],
      "metadata": {
        "id": "I-ZUDlva6m3Y"
      },
      "execution_count": null,
      "outputs": []
    },
    {
      "cell_type": "markdown",
      "source": [
        "## Part 1: Models"
      ],
      "metadata": {
        "id": "d_YGHcob5Rhs"
      }
    },
    {
      "cell_type": "markdown",
      "source": [
        "### Large Language Models (LLMs)"
      ],
      "metadata": {
        "id": "3MvgsUgi-yQD"
      }
    },
    {
      "cell_type": "code",
      "source": [
        "# Use the OpenAI LLM wrapper and text-davinci-003 model\n",
        "from langchain.llms import OpenAI\n",
        "\n",
        "llm = OpenAI(model_name=\"text-davinci-003\", openai_api_key=openai_api_key)"
      ],
      "metadata": {
        "id": "9gqrb7Rh53uF"
      },
      "execution_count": null,
      "outputs": []
    },
    {
      "cell_type": "code",
      "source": [
        "# Generate a simple text response\n",
        "llm(\"Why is the sky blue?\")"
      ],
      "metadata": {
        "id": "1oQ3UzyEAnsL"
      },
      "execution_count": null,
      "outputs": []
    },
    {
      "cell_type": "code",
      "source": [
        "# Show the generation output instead\n",
        "llm_result = llm.generate([\"Why is the sky blue?\"])\n",
        "llm_result.llm_output"
      ],
      "metadata": {
        "id": "wpYhYbKOC1_L"
      },
      "execution_count": null,
      "outputs": []
    },
    {
      "cell_type": "code",
      "source": [
        "# Track OpenAI token usage for a single API call\n",
        "from langchain.callbacks import get_openai_callback\n",
        "\n",
        "with get_openai_callback() as cb:\n",
        "    result = llm(\"Why is the sky blue?\")\n",
        "\n",
        "    print(f\"Total Tokens: {cb.total_tokens}\")\n",
        "    print(f\"\\tPrompt Tokens: {cb.prompt_tokens}\")\n",
        "    print(f\"\\tCompletion Tokens: {cb.completion_tokens}\")\n",
        "    print(f\"Total Cost (USD): ${cb.total_cost}\")"
      ],
      "metadata": {
        "id": "LsE4Euf2DeW9"
      },
      "execution_count": null,
      "outputs": []
    },
    {
      "cell_type": "markdown",
      "source": [
        "### Chat Models"
      ],
      "metadata": {
        "id": "vpCYayVyWqyr"
      }
    },
    {
      "cell_type": "code",
      "source": [
        "# Define system message for the chatbot, and pass human message\n",
        "from langchain.chat_models import ChatOpenAI\n",
        "from langchain.schema import (\n",
        "    AIMessage,\n",
        "    HumanMessage,\n",
        "    SystemMessage\n",
        ")\n",
        "\n",
        "chat = ChatOpenAI(temperature=0, openai_api_key=openai_api_key)\n",
        "\n",
        "messages = [\n",
        "    SystemMessage(content=\"You are a helpful assistant that translates English to Spanish.\"),\n",
        "    HumanMessage(content=\"Translate this sentence from English to Spanish. I'm hungry, give me food.\")\n",
        "]\n",
        "\n",
        "chat(messages)"
      ],
      "metadata": {
        "id": "Bm_9BTO1Wsz4"
      },
      "execution_count": null,
      "outputs": []
    }
  ]
}